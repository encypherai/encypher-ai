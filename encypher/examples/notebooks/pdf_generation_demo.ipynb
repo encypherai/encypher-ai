{
 "cells": [
  {
   "cell_type": "markdown",
   "metadata": {},
   "source": [
    "# EncypherAI PDF Generation Demo\n",
    "\n",
    "This notebook demonstrates how to use the EncypherPDF class to create PDFs with embedded metadata and verify them."
   ]
  },
  {
   "cell_type": "markdown",
   "metadata": {},
   "source": [
    "## Setup\n",
    "\n",
    "First, let's import the necessary modules and generate a key pair for signing."
   ]
  },
  {
   "cell_type": "code",
   "execution_count": null,
   "metadata": {},
   "outputs": [],
   "source": [
    "import os\n",
    "from datetime import datetime, timezone\n",
    "from cryptography.hazmat.primitives.asymmetric import ed25519\n",
    "from IPython.display import IFrame, display, Markdown\n",
    "\n",
    "from encypher.pdf_generator import EncypherPDF\n",
    "from encypher.core.unicode_metadata import UnicodeMetadata\n",
    "\n",
    "# Create a directory for our output files\n",
    "os.makedirs(\"output\", exist_ok=True)"
   ]
  },
  {
   "cell_type": "code",
   "execution_count": null,
   "metadata": {},
   "outputs": [],
   "source": [
    "# Generate a key pair for signing\n",
    "private_key = ed25519.Ed25519PrivateKey.generate()\n",
    "public_key = private_key.public_key()\n",
    "\n",
    "# Define a signer ID and timestamp\n",
    "signer_id = \"example-signer\"\n",
    "timestamp = int(datetime.now(timezone.utc).timestamp())\n",
    "timestamp_str = datetime.fromtimestamp(timestamp, timezone.utc).isoformat()\n",
    "\n",
    "print(f\"Generated key pair with signer ID: {signer_id}\")\n",
    "print(f\"Current timestamp: {timestamp} ({timestamp_str})\")"
   ]
  },
  {
   "cell_type": "markdown",
   "metadata": {},
   "source": [
    "## Basic PDF Generation\n",
    "\n",
    "Let's create a simple PDF with embedded metadata."
   ]
  },
  {
   "cell_type": "code",
   "execution_count": null,
   "metadata": {},
   "outputs": [],
   "source": [
    "# Define the text content and output path\n",
    "text = \"Hello from EncypherAI! This is a simple PDF with embedded metadata.\"\n",
    "output_path = \"output/basic_example.pdf\"\n",
    "\n",
    "# Generate the PDF\n",
    "pdf_path = EncypherPDF.from_text(\n",
    "    text=text,\n",
    "    output_path=output_path,\n",
    "    private_key=private_key,\n",
    "    signer_id=signer_id,\n",
    "    timestamp=timestamp,\n",
    ")\n",
    "\n",
    "print(f\"PDF created at: {pdf_path}\")"
   ]
  },
  {
   "cell_type": "markdown",
   "metadata": {},
   "source": [
    "Let's display the PDF we just created:"
   ]
  },
  {
   "cell_type": "code",
   "execution_count": null,
   "metadata": {},
   "outputs": [],
   "source": [
    "# Display the PDF in the notebook\n",
    "display(IFrame(output_path, width=700, height=400))"
   ]
  },
  {
   "cell_type": "markdown",
   "metadata": {},
   "source": [
    "## Verifying the PDF\n",
    "\n",
    "Now let's extract the text from the PDF and verify the embedded metadata."
   ]
  },
  {
   "cell_type": "code",
   "execution_count": null,
   "metadata": {},
   "outputs": [],
   "source": [
    "# Extract text from the PDF\n",
    "extracted_text = EncypherPDF.extract_text(output_path)\n",
    "print(\"Extracted text:\")\n",
    "print(extracted_text)"
   ]
  },
  {
   "cell_type": "code",
   "execution_count": null,
   "metadata": {},
   "outputs": [],
   "source": [
    "# Define a public key resolver function\n",
    "def public_key_resolver(sid):\n",
    "    # In a real application, you would look up the public key based on the signer ID\n",
    "    return public_key if sid == signer_id else None\n",
    "\n",
    "# Verify the PDF\n",
    "is_valid, extracted_signer_id, payload = EncypherPDF.verify_pdf(\n",
    "    output_path,\n",
    "    public_key_resolver=public_key_resolver,\n",
    ")\n",
    "\n",
    "print(f\"Verification result: {'Valid' if is_valid else 'Invalid'}\")\n",
    "print(f\"Signer ID: {extracted_signer_id}\")\n",
    "print(f\"Payload: {payload}\")"
   ]
  },
  {
   "cell_type": "markdown",
   "metadata": {},
   "source": [
    "## Advanced Features\n",
    "\n",
    "### Custom Fonts\n",
    "\n",
    "EncypherPDF supports custom TrueType fonts for better Unicode support. Let's create a PDF with a custom font if available."
   ]
  },
  {
   "cell_type": "code",
   "execution_count": null,
   "metadata": {},
   "outputs": [],
   "source": [
    "# Check if a font file exists (you can replace this with your own font path)\n",
    "font_path = \"path/to/your/font.ttf\"  # Replace with actual path if available\n",
    "font_exists = os.path.exists(font_path)\n",
    "\n",
    "if font_exists:\n",
    "    # Text with Unicode characters\n",
    "    unicode_text = \"Hello with custom font! 你好，世界！こんにちは！안녕하세요!\"\n",
    "    unicode_output_path = \"output/unicode_example.pdf\"\n",
    "    \n",
    "    # Generate PDF with custom font\n",
    "    unicode_pdf_path = EncypherPDF.from_text(\n",
    "        text=unicode_text,\n",
    "        output_path=unicode_output_path,\n",
    "        private_key=private_key,\n",
    "        signer_id=signer_id,\n",
    "        timestamp=timestamp,\n",
    "        font_path=font_path,\n",
    "        font_name=\"CustomFont\",\n",
    "        font_size=14,\n",
    "    )\n",
    "    \n",
    "    print(f\"Unicode PDF created at: {unicode_pdf_path}\")\n",
    "    display(IFrame(unicode_output_path, width=700, height=400))\n",
    "else:\n",
    "    print(\"Custom font file not found. Using default font instead.\")\n",
    "    \n",
    "    # Text with Unicode characters (may not display correctly with default font)\n",
    "    unicode_text = \"Hello with default font! Some Unicode characters may not display correctly: 你好，世界！\"\n",
    "    unicode_output_path = \"output/unicode_default_font.pdf\"\n",
    "    \n",
    "    # Generate PDF with default font\n",
    "    unicode_pdf_path = EncypherPDF.from_text(\n",
    "        text=unicode_text,\n",
    "        output_path=unicode_output_path,\n",
    "        private_key=private_key,\n",
    "        signer_id=signer_id,\n",
    "        timestamp=timestamp,\n",
    "    )\n",
    "    \n",
    "    print(f\"Unicode PDF with default font created at: {unicode_pdf_path}\")\n",
    "    display(IFrame(unicode_output_path, width=700, height=400))"
   ]
  },
  {
   "cell_type": "markdown",
   "metadata": {},
   "source": [
    "### Different Metadata Formats\n",
    "\n",
    "EncypherPDF supports different metadata formats. Let's create PDFs with different formats."
   ]
  },
  {
   "cell_type": "code",
   "execution_count": null,
   "metadata": {},
   "outputs": [],
   "source": [
    "# Define the text content\n",
    "format_text = \"This PDF uses a different metadata format.\"\n",
    "\n",
    "# List of formats to demonstrate\n",
    "formats = [\"basic\", \"manifest\", \"cbor_manifest\", \"c2pa_v2_2\"]\n",
    "\n",
    "for fmt in formats:\n",
    "    output_path = f\"output/{fmt}_format.pdf\"\n",
    "    \n",
    "    # Generate PDF with the specified format\n",
    "    pdf_path = EncypherPDF.from_text(\n",
    "        text=format_text,\n",
    "        output_path=output_path,\n",
    "        private_key=private_key,\n",
    "        signer_id=signer_id,\n",
    "        timestamp=timestamp,\n",
    "        metadata_format=fmt,\n",
    "    )\n",
    "    \n",
    "    print(f\"PDF with {fmt} format created at: {pdf_path}\")\n",
    "    \n",
    "    # Verify the PDF\n",
    "    is_valid, extracted_signer_id, payload = EncypherPDF.verify_pdf(\n",
    "        output_path,\n",
    "        public_key_resolver=public_key_resolver,\n",
    "    )\n",
    "    \n",
    "    print(f\"Verification result: {'Valid' if is_valid else 'Invalid'}\")\n",
    "    print(f\"Payload type: {type(payload).__name__}\")\n",
    "    print(\"---\")"
   ]
  },
  {
   "cell_type": "markdown",
   "metadata": {},
   "source": [
    "### Custom Metadata\n",
    "\n",
    "Let's create a PDF with custom metadata."
   ]
  },
  {
   "cell_type": "code",
   "execution_count": null,
   "metadata": {},
   "outputs": [],
   "source": [
    "# First, create metadata-rich text with custom metadata\n",
    "custom_metadata = {\n",
    "    \"title\": \"Example PDF\",\n",
    "    \"author\": \"EncypherAI\",\n",
    "    \"description\": \"A PDF with custom metadata\",\n",
    "    \"keywords\": [\"EncypherAI\", \"PDF\", \"metadata\", \"digital signatures\"],\n",
    "    \"version\": \"1.0.0\"\n",
    "}\n",
    "\n",
    "# Embed metadata in text\n",
    "text_with_metadata = UnicodeMetadata.embed_metadata(\n",
    "    text=\"This PDF contains custom metadata.\",\n",
    "    private_key=private_key,\n",
    "    signer_id=signer_id,\n",
    "    timestamp=timestamp,\n",
    "    custom_metadata=custom_metadata\n",
    ")\n",
    "\n",
    "# Create PDF with the metadata-rich text\n",
    "custom_metadata_path = \"output/custom_metadata.pdf\"\n",
    "pdf_path = EncypherPDF.from_text(\n",
    "    text=text_with_metadata,\n",
    "    output_path=custom_metadata_path,\n",
    "    private_key=private_key,\n",
    "    signer_id=signer_id,\n",
    "    timestamp=timestamp,\n",
    ")\n",
    "\n",
    "print(f\"PDF with custom metadata created at: {pdf_path}\")\n",
    "display(IFrame(custom_metadata_path, width=700, height=400))"
   ]
  },
  {
   "cell_type": "code",
   "execution_count": null,
   "metadata": {},
   "outputs": [],
   "source": [
    "# Verify the PDF with custom metadata\n",
    "is_valid, extracted_signer_id, payload = EncypherPDF.verify_pdf(\n",
    "    custom_metadata_path,\n",
    "    public_key_resolver=public_key_resolver,\n",
    ")\n",
    "\n",
    "print(f\"Verification result: {'Valid' if is_valid else 'Invalid'}\")\n",
    "print(f\"Signer ID: {extracted_signer_id}\")\n",
    "\n",
    "# Display the custom metadata\n",
    "if is_valid and payload:\n",
    "    print(\"\\nCustom Metadata:\")\n",
    "    custom_metadata = payload.custom_metadata if hasattr(payload, 'custom_metadata') else {}\n",
    "    for key, value in custom_metadata.items():\n",
    "        print(f\"  {key}: {value}\")"
   ]
  },
  {
   "cell_type": "markdown",
   "metadata": {},
   "source": [
    "## Error Handling\n",
    "\n",
    "EncypherPDF includes robust error handling. Let's demonstrate some error scenarios."
   ]
  },
  {
   "cell_type": "code",
   "execution_count": null,
   "metadata": {},
   "outputs": [],
   "source": [
    "# Try to verify a PDF with an incorrect public key\n",
    "def wrong_key_resolver(sid):\n",
    "    # This will always return None, simulating a missing or incorrect key\n",
    "    return None\n",
    "\n",
    "try:\n",
    "    is_valid, extracted_signer_id, payload = EncypherPDF.verify_pdf(\n",
    "        output_path,\n",
    "        public_key_resolver=wrong_key_resolver,\n",
    "    )\n",
    "    print(f\"Verification result: {'Valid' if is_valid else 'Invalid'}\")\n",
    "    print(f\"Signer ID: {extracted_signer_id}\")\n",
    "except Exception as e:\n",
    "    print(f\"Error during verification: {e}\")"
   ]
  },
  {
   "cell_type": "code",
   "execution_count": null,
   "metadata": {},
   "outputs": [],
   "source": [
    "# Try to create a PDF with a non-existent font\n",
    "try:\n",
    "    pdf_path = EncypherPDF.from_text(\n",
    "        text=\"This will fail due to a non-existent font.\",\n",
    "        output_path=\"output/font_error.pdf\",\n",
    "        private_key=private_key,\n",
    "        signer_id=signer_id,\n",
    "        timestamp=timestamp,\n",
    "        font_path=\"non_existent_font.ttf\",\n",
    "    )\n",
    "except Exception as e:\n",
    "    print(f\"Error creating PDF with non-existent font: {e}\")"
   ]
  },
  {
   "cell_type": "markdown",
   "metadata": {},
   "source": [
    "## Conclusion\n",
    "\n",
    "This notebook has demonstrated the key features of the EncypherPDF class:\n",
    "\n",
    "1. Creating PDFs with embedded metadata\n",
    "2. Verifying PDFs and extracting metadata\n",
    "3. Using custom fonts for better Unicode support\n",
    "4. Working with different metadata formats\n",
    "5. Adding custom metadata\n",
    "6. Handling errors gracefully\n",
    "\n",
    "The EncypherPDF class provides a simple and secure way to create and verify PDFs with embedded metadata, making it easy to integrate into your workflow."
   ]
  }
 ],
 "metadata": {
  "kernelspec": {
   "display_name": "Python 3",
   "language": "python",
   "name": "python3"
  },
  "language_info": {
   "codemirror_mode": {
    "name": "ipython",
    "version": 3
   },
   "file_extension": ".py",
   "mimetype": "text/x-python",
   "name": "python",
   "nbconvert_exporter": "python",
   "pygments_lexer": "ipython3",
   "version": "3.9.0"
  }
 },
 "nbformat": 4,
 "nbformat_minor": 4
}
